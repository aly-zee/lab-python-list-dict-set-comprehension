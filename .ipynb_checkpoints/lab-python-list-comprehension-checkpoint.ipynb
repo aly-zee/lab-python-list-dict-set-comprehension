{
 "cells": [
  {
   "cell_type": "markdown",
   "id": "25d7736c-ba17-4aff-b6bb-66eba20fbf4e",
   "metadata": {},
   "source": [
    "# Lab | List, Dict and Set Comprehension"
   ]
  },
  {
   "cell_type": "markdown",
   "id": "7dd3cbde-675a-4b81-92c3-f728846dbe06",
   "metadata": {},
   "source": [
    "## Exercise: Managing Customer Orders Optimized with Comprehension"
   ]
  },
  {
   "cell_type": "markdown",
   "id": "5d500160-2fb7-4777-b5e4-09d45ebaf328",
   "metadata": {},
   "source": [
    "In the previous exercise, you developed a program to manage customer orders and inventory. Now, let's take it a step further and incorporate comprehension into your code.\n",
    "\n",
    "Follow the steps below to complete the exercise:\n",
    "\n",
    "1. Review your code from the previous exercise and identify areas where you can apply comprehension to simplify and streamline your code. \n",
    "\n",
    "    - *Hint: Apply it to initialize inventory, updating the inventory and printing the updated inventory.*\n",
    "    \n",
    "    - For example, in initializing the inventory, we could have:\n",
    "    \n",
    "        ```python\n",
    "        def initialize_inventory(products):\n",
    "            inventory = {product: int(input(f\"Enter the quantity of {product}s available: \")) for product in products}\n",
    "            return inventory\n",
    "\n",
    "        ```\n",
    "<br>\n",
    "    \n",
    "    \n",
    "2. Modify the function get_customer_orders so it prompts the user to enter the number of customer orders and gathers the product names using a loop and user input. Use comprehension.\n",
    "\n",
    "3. Add a new function to calculate the total price of the customer order. For each product in customer_orders, prompt the user to enter the price of that product. Use comprehension to calculate the total price. Note: assume that the user can only have 1 unit of each product.\n",
    "\n",
    "4. Modify the update_inventory function to remove the product from the inventory if its quantity becomes zero after fulfilling the customer orders. Use comprehension to filter out the products with a quantity of zero from the inventory.\n",
    "\n",
    "5. Print the total price of the customer order.\n",
    "\n",
    "Your code should produce output similar to the following:\n",
    "\n",
    "```python\n",
    "Enter the quantity of t-shirts available:  5\n",
    "Enter the quantity of mugs available:  4\n",
    "Enter the quantity of hats available:  3\n",
    "Enter the quantity of books available:  2\n",
    "Enter the quantity of keychains available:  1\n",
    "Enter the number of customer orders:  2\n",
    "Enter the name of a product that a customer wants to order:  hat\n",
    "Enter the name of a product that a customer wants to order:  keychain\n",
    "\n",
    "Order Statistics:\n",
    "Total Products Ordered: 2\n",
    "Percentage of Unique Products Ordered: 40.0\n",
    "\n",
    "Updated Inventory:\n",
    "t-shirt: 5\n",
    "mug: 4\n",
    "hat: 2\n",
    "book: 2\n",
    "Enter the price of keychain:  5\n",
    "Enter the price of hat:  10\n",
    "Total Price: 15.0\n",
    "\n",
    "```\n"
   ]
  },
  {
   "cell_type": "code",
   "execution_count": 40,
   "id": "28e2f80f",
   "metadata": {},
   "outputs": [],
   "source": [
    "products = [\"t-shirt\", \"mug\", \"hat\", \"book\", \"keychain\"]"
   ]
  },
  {
   "cell_type": "code",
   "execution_count": 41,
   "id": "e5d545fc",
   "metadata": {},
   "outputs": [],
   "source": [
    "# Review your code from the previous exercise and identify areas where you can apply comprehension to simplify and streamline your code.\n",
    "def initialize_inventory(products):\n",
    "    inventory = {product: int(input(f\"Enter the quantity of {product}s available: \")) for product in products}\n",
    "    return inventory"
   ]
  },
  {
   "cell_type": "code",
   "execution_count": 42,
   "id": "bd9aca05",
   "metadata": {},
   "outputs": [],
   "source": [
    "# def get_customer_orders():\n",
    "#     # Create an empty set called customer_orders\n",
    "#     customer_orders = set()\n",
    "\n",
    "# more_product = 'y'\n",
    "#     # answer = input('enter command > ').lower().strip()\n",
    "#     while more_product == 'y':\n",
    "#         selection = customer_orders.add(\n",
    "#             input(\"What would you like to order? \"))\n",
    "#         more_product = input(\"Add another product? (y/n) \").lower().strip()\n",
    "\n",
    "#         while more_product.lower() not in {'y', 'n'}:\n",
    "#             print(\"Invalid input! Please enter 'y' or 'n'.\")\n",
    "#             more_product = input(\"Add another product? (y/n) \").lower().strip()\n",
    "#     return customer_orders\n",
    "\n",
    "# Modify the function get_customer_orders so it prompts the user to enter the number of customer orders and gathers the product names using a loop and user input. Use comprehension.\n",
    "\n",
    "def get_customer_orders():\n",
    "    customer_orders = []\n",
    "    order_amount = int(input(f\"Enter the number of customer orders:\"))\n",
    "    customer_orders = [input(f\"Enter the name of a product that a customer wants to order:\" )for order in range(order_amount)]\n",
    "    return customer_orders\n",
    "                             "
   ]
  },
  {
   "cell_type": "code",
   "execution_count": 43,
   "id": "165e7b15",
   "metadata": {},
   "outputs": [],
   "source": [
    "# Add a new function to calculate the total price of the customer order. For each product in customer_orders, prompt the user to enter the price of that product. Use comprehension to calculate the total price. Note: assume that the user can only have 1 unit of each product.\n",
    "def total_price(customer_order):\n",
    "    item_price = []\n",
    "    for order in customer_order:\n",
    "        item_price = int(input(f\"Enter the price for {order}: \"))\n",
    "        \n",
    "    total = sum([price for price in item_price])\n",
    "    \n",
    "    print(f\"Total Price: {total}\")\n",
    "  "
   ]
  },
  {
   "cell_type": "code",
   "execution_count": 46,
   "id": "3deed95d",
   "metadata": {},
   "outputs": [
    {
     "name": "stdout",
     "output_type": "stream",
     "text": [
      "Enter the quantity of t-shirts available: 10\n",
      "Enter the quantity of mugs available: 10\n",
      "Enter the quantity of hats available: 10\n",
      "Enter the quantity of books available: 10\n",
      "Enter the quantity of keychains available: 10\n",
      "Enter the number of customer orders:2\n",
      "Enter the name of a product that a customer wants to order:book\n",
      "Enter the name of a product that a customer wants to order:hat\n",
      "Enter the price for book10\n",
      "Enter the price for hat10\n"
     ]
    }
   ],
   "source": [
    "# calls initialize_inventory\n",
    "initialize_inventory(products)\n",
    "\n",
    "# call get_customer_orders\n",
    "cust_orders = get_customer_orders()\n",
    "\n",
    "total_price(cust_orders)"
   ]
  },
  {
   "cell_type": "code",
   "execution_count": 29,
   "id": "2e957b05",
   "metadata": {},
   "outputs": [],
   "source": [
    "# Modify the update_inventory function to remove the product from the inventory if its quantity becomes zero after fulfilling the customer orders. Use comprehension to filter out the products with a quantity of zero from the inventory."
   ]
  },
  {
   "cell_type": "code",
   "execution_count": null,
   "id": "093af3ff",
   "metadata": {},
   "outputs": [],
   "source": []
  },
  {
   "cell_type": "code",
   "execution_count": null,
   "id": "f026a136",
   "metadata": {},
   "outputs": [],
   "source": []
  }
 ],
 "metadata": {
  "kernelspec": {
   "display_name": "Python 3 (ipykernel)",
   "language": "python",
   "name": "python3"
  },
  "language_info": {
   "codemirror_mode": {
    "name": "ipython",
    "version": 3
   },
   "file_extension": ".py",
   "mimetype": "text/x-python",
   "name": "python",
   "nbconvert_exporter": "python",
   "pygments_lexer": "ipython3",
   "version": "3.9.19"
  }
 },
 "nbformat": 4,
 "nbformat_minor": 5
}
